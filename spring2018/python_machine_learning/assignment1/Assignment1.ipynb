{
 "cells": [
  {
   "cell_type": "markdown",
   "metadata": {},
   "source": [
    "__Averill Cate__"
   ]
  },
  {
   "cell_type": "markdown",
   "metadata": {},
   "source": [
    "#### 1. Given a list like myList=[1,2,3,4], your task is to find sum of each number with another number, i.e., 1+2,1+3,1+4,2+3,2+4,3+4 . Write two codes, one using list comprehension and other using for loop."
   ]
  },
  {
   "cell_type": "code",
   "execution_count": 174,
   "metadata": {},
   "outputs": [
    {
     "name": "stdout",
     "output_type": "stream",
     "text": [
      "[3, 4, 5, 5, 6, 7]\n",
      "[3, 4, 5, 5, 6, 7]\n"
     ]
    }
   ],
   "source": [
    "myList = [1, 2, 3, 4]\n",
    "\n",
    "# As a for-loop\n",
    "sums = []\n",
    "for i in myList[0:-1]:\n",
    "    for j in myList[i:]:\n",
    "        sums.append(i + j)\n",
    "print(sums)\n",
    "\n",
    "# As a list comprehension\n",
    "sums = [i + j for i in myList[0:-1] for j in myList[i:]]\n",
    "print(sums)"
   ]
  },
  {
   "cell_type": "markdown",
   "metadata": {},
   "source": [
    "#### 2. Given a list write a code to detect if there is a duplicate element present in the list (of integers) or not.  Print yes or no. Write two codes, one using '==' operator and other using exclusive or operator '^'."
   ]
  },
  {
   "cell_type": "code",
   "execution_count": 175,
   "metadata": {},
   "outputs": [
    {
     "name": "stdout",
     "output_type": "stream",
     "text": [
      "yes\n",
      "no\n",
      "yes\n",
      "no\n"
     ]
    }
   ],
   "source": [
    "lst1 = [1, 2, 3, 4, 5, 2]\n",
    "lst2 = [1, 2, 3, 4, 5,]\n",
    "\n",
    "dupes = [i for i in lst1 if lst1.count(i) > 1]\n",
    "print(\"yes\") if len(dupes) > 1 else print(\"no\")\n",
    "\n",
    "dupes = [i for i in lst2 if lst2.count(i) > 1]\n",
    "print(\"yes\") if len(dupes) > 1 else print(\"no\")\n",
    "\n",
    "def has_dupes(l):\n",
    "    v = [i^j == 0 for i in l[:-1] for j in l[i:]]\n",
    "    return v\n",
    "\n",
    "print(\"yes\") if True in has_dupes(lst1) else print(\"no\")\n",
    "print(\"yes\") if True in has_dupes(lst2) else print(\"no\")"
   ]
  },
  {
   "cell_type": "markdown",
   "metadata": {},
   "source": [
    "#### 3. Given below is a 2D matrix, create a list of all the odd numbers present in the matrix. Also sort the list in descending order."
   ]
  },
  {
   "cell_type": "code",
   "execution_count": 176,
   "metadata": {},
   "outputs": [
    {
     "name": "stdout",
     "output_type": "stream",
     "text": [
      "[9, 7, 5, 3, 1]\n"
     ]
    }
   ],
   "source": [
    "myMatrix = [[1, 2, 3, 4], [5, 6, 7], [8, 9, 10]]\n",
    "odds = [c for r in myMatrix for c in r if c % 2 != 0]\n",
    "odds.sort(reverse=True)\n",
    "print(odds)"
   ]
  },
  {
   "cell_type": "markdown",
   "metadata": {},
   "source": [
    "#### 4. Given below is a 2D matrix, create a list of squares of all the even numbers present in the matrix."
   ]
  },
  {
   "cell_type": "code",
   "execution_count": 177,
   "metadata": {},
   "outputs": [
    {
     "name": "stdout",
     "output_type": "stream",
     "text": [
      "[4, 16, 36, 64, 100]\n"
     ]
    }
   ],
   "source": [
    "myMatrix = [[1, 2, 'aa',3, 4], ['dd',5, 6, 7], [8, 9, 10,'cc']]\n",
    "squares = [c**2 for r in myMatrix for c in r if isinstance(c, int) and c % 2 == 0]\n",
    "print(squares)"
   ]
  },
  {
   "cell_type": "markdown",
   "metadata": {},
   "source": [
    "#### 5. Given below is a 2D matrix, create a list of squares of all the prime numbers present in the matrix. (Hint: use 6k+1 or 6k-1 formula)"
   ]
  },
  {
   "cell_type": "code",
   "execution_count": 178,
   "metadata": {},
   "outputs": [
    {
     "name": "stdout",
     "output_type": "stream",
     "text": [
      "[23, 17, 19, 5, 7, 1, 2, 3, 11, 13]\n"
     ]
    }
   ],
   "source": [
    "\"\"\"\n",
    "Been a while since I worked with 6k +/- 1, so I had to look it up.  For academic integrity sake, here is the \n",
    "url reference: \n",
    "https://stackoverflow.com/questions/1801391/what-is-the-best-algorithm-for-checking-if-a-number-is-prime\n",
    "\"\"\"\n",
    "def is_prime(n):\n",
    "    if n in [2, 3]:\n",
    "        return True\n",
    "    if n % 2 == 0 or n % 3 == 0:\n",
    "        return False\n",
    "\n",
    "    i = 5\n",
    "    j = 2\n",
    "\n",
    "    while i * i <= n:\n",
    "        if n % i == 0:\n",
    "            return False\n",
    "\n",
    "        i += j\n",
    "        j = 6 - j\n",
    "\n",
    "    return True\n",
    "\n",
    "myMatrix = [[21, 22, 23, 4, 16, 17, 18, 19], [5, 6, 7, 14, 15, 20, 1, 2, 3], [8, 9, 10, 11, 12, 13]]\n",
    "primes = [c for r in myMatrix for c in r if is_prime(c)]\n",
    "print(primes)"
   ]
  },
  {
   "cell_type": "markdown",
   "metadata": {},
   "source": [
    "#### 6. Make a dictionary of all those words, from the given paragraph, which are having 4 or more characters in it . Key of the dictionary should be word and value should be the number of times that word has appeared in the paragraph. eg. {\"feminist\":3,\"part\":2,\"campaign\":1}"
   ]
  },
  {
   "cell_type": "code",
   "execution_count": 179,
   "metadata": {},
   "outputs": [
    {
     "name": "stdout",
     "output_type": "stream",
     "text": [
      "[\"It's\", 'Spice', 'Girls', 'know', 'them', 'Twenty', 'years', 'after', 'first', 'released', 'this', 'famous', 'girl', 'power', 'anthem', 'been', 'given', '21st', 'century', 'feminist', 'makeover', 'video', 'part', 'Project', \"Everyone's\", 'campaign', 'improve', 'lives', 'women', 'girls', 'everywhere', 'calling', 'violence', 'against', 'girls', 'quality', 'education', 'equal', 'equal', 'work']\n",
      "\n",
      "Word count dictionary:\n",
      "{\"It's\": 1, 'Spice': 1, 'Girls': 1, 'know': 1, 'them': 1, 'Twenty': 1, 'years': 1, 'after': 1, 'first': 1, 'released': 1, 'this': 1, 'famous': 1, 'girl': 1, 'power': 1, 'anthem': 1, 'been': 1, 'given': 1, '21st': 1, 'century': 1, 'feminist': 1, 'makeover': 1, 'video': 1, 'part': 1, 'Project': 1, \"Everyone's\": 1, 'campaign': 1, 'improve': 1, 'lives': 1, 'women': 1, 'girls': 2, 'everywhere': 1, 'calling': 1, 'violence': 1, 'against': 1, 'quality': 1, 'education': 1, 'equal': 2, 'work': 1}\n"
     ]
    }
   ],
   "source": [
    "mySentence=r\"\"\"It's the Spice Girls but not as you know them. Twenty years after it was first released, this famous girl power anthem has been given a 21st century feminist makeover. The\n",
    "new video is part of Project Everyone's campaign to improve the lives of women and girls everywhere, calling for an end to violence against girls, quality education for all and equal pay for equal work.\"\"\"\n",
    "\n",
    "sentence = mySentence.replace(\".\", \"\").replace(\",\", \"\")\n",
    "# List of words greater then 4 chars.\n",
    "words =[w for w in sentence.split() if len(w) > 3]\n",
    "print(words)\n",
    "\n",
    "wd = {}\n",
    "for w in words:\n",
    "    wd[w] = wd.get(w, 0) + 1\n",
    "print(\"\\nWord count dictionary:\")\n",
    "print(wd)"
   ]
  },
  {
   "cell_type": "markdown",
   "metadata": {},
   "source": [
    "#### 7. Given a list, multiply all the elements of the list by 2 without using any arithmetic operator. Hint: use bitwise operator"
   ]
  },
  {
   "cell_type": "code",
   "execution_count": 180,
   "metadata": {},
   "outputs": [
    {
     "name": "stdout",
     "output_type": "stream",
     "text": [
      "[2, 4, 6, 8]\n",
      "[2, 4, 6, 8, 10, 12, 14, 16, 18, 20, 22, 24, 26, 28, 30, 32, 34, 36, 38]\n"
     ]
    }
   ],
   "source": [
    "# Re-using myList\n",
    "myList\n",
    "\n",
    "mults = [i << 1 for i in myList]\n",
    "print(mults)\n",
    "\n",
    "alt_list = range(1, 20)\n",
    "mults = [i << 1 for i in alt_list]\n",
    "print(mults)"
   ]
  },
  {
   "cell_type": "markdown",
   "metadata": {},
   "source": [
    "#### 8. Given below are two 2D matrix, add them element wise to form a third 2D matrix and print the resultant matrix."
   ]
  },
  {
   "cell_type": "code",
   "execution_count": 181,
   "metadata": {},
   "outputs": [
    {
     "name": "stdout",
     "output_type": "stream",
     "text": [
      "[[1, 2, 3, 4, 3, 1, 1, 4], [5, 6, 7, 6, 7, 7, 7, 7], [8, 9, 10, 4, 8, 9, 10, 11]]\n",
      "Summing the elements:\n",
      "\n",
      "[[4, 3, 4, 8], [12, 13, 14, 13], [16, 18, 20, 15]]\n"
     ]
    }
   ],
   "source": [
    "mtx1 = [[1, 2, 3, 4], [5, 6, 7, 6], [8, 9, 10,4]]\n",
    "mtx2 = [[3, 1, 1, 4], [7, 7, 7, 7], [8, 9, 10,11]]\n",
    "\n",
    "# Combined\n",
    "mtx3 = [mtx1[i] + mtx2[i] for i in range(len(mtx1))]\n",
    "print(mtx3)\n",
    "\n",
    "# Added\n",
    "print(\"Summing the elements:\\n\")\n",
    "mtx4 = []\n",
    "for r in range(len(mtx1)):\n",
    "    s = []\n",
    "    for c in range(len(mtx1[r])):\n",
    "        s.append(mtx1[r][c] + mtx2[r][c])\n",
    "    mtx4.append(s)\n",
    "    \n",
    "print(mtx4)"
   ]
  }
 ],
 "metadata": {
  "kernelspec": {
   "display_name": "Python 3",
   "language": "python",
   "name": "python3"
  },
  "language_info": {
   "codemirror_mode": {
    "name": "ipython",
    "version": 3
   },
   "file_extension": ".py",
   "mimetype": "text/x-python",
   "name": "python",
   "nbconvert_exporter": "python",
   "pygments_lexer": "ipython3",
   "version": "3.6.3"
  }
 },
 "nbformat": 4,
 "nbformat_minor": 2
}
