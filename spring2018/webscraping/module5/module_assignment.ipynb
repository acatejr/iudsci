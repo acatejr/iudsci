{
 "cells": [
  {
   "cell_type": "code",
   "execution_count": 5,
   "metadata": {
    "collapsed": true
   },
   "outputs": [],
   "source": [
    "class Authentication:\n",
    "    def __init__(self):\n",
    "        # instantiate an instance variable\n",
    "        self.user_dict = {}\n",
    "    def register_user(self, uname, passwd):\n",
    "        if uname in self.user_dict:\n",
    "            print(\"Username exists! Try a new one.\")\n",
    "            return False\n",
    "        else:\n",
    "            self.user_dict[uname] = passwd\n",
    "            print(\"Registration successful\" )\n",
    "            return True"
   ]
  },
  {
   "cell_type": "code",
   "execution_count": 6,
   "metadata": {},
   "outputs": [
    {
     "name": "stdout",
     "output_type": "stream",
     "text": [
      "Registration successful\n",
      "Registration successful\n",
      "Registration successful\n",
      "Registration successful\n",
      "Registration successful\n",
      "Registration successful\n",
      "Registration successful\n"
     ]
    }
   ],
   "source": [
    "def data_entry(auth):\n",
    "    # registering 3 users\n",
    "    auth.register_user('jdoe', '$234^%$') # Jane Doe\n",
    "    auth.register_user('sburry', '456@#&^') # Sam Burry\n",
    "    auth.register_user('mfisc', '%6&#$@#') # Mike Fischer\n",
    "    auth.register_user('nhay', 'ildfu45') # Nicky Hailey\n",
    "    auth.register_user('bobama', 'klj43509jafd') # Barack Obama\n",
    "    auth.register_user('bgates', '^&%kjsfd934@#$') # Bill Gates\n",
    "    auth.register_user('mcuban', '9&4rl#nsf') # Mark Cuban\n",
    "\n",
    "# Main program\n",
    "auth = Authentication()\n",
    "data_entry(auth)"
   ]
  },
  {
   "cell_type": "code",
   "execution_count": 7,
   "metadata": {},
   "outputs": [
    {
     "name": "stdout",
     "output_type": "stream",
     "text": [
      "Registration successful\n",
      "Registration successful\n",
      "Registration successful\n",
      "Registration successful\n",
      "Registration successful\n",
      "Registration successful\n",
      "Registration successful\n",
      "Write to file successful!\n",
      "Write to file successful!\n",
      "Write to file successful!\n",
      "Write to file successful!\n",
      "Write to file successful!\n",
      "Write to file successful!\n",
      "Write to file successful!\n"
     ]
    }
   ],
   "source": [
    "# Question 1:\n",
    "# Inherit the Authentication class to create a new child class called AuthenticationIO\n",
    "# add a new method called write_info()\n",
    "# which writes all the usernames and passwords to a CSV file (never recommended in rea\n",
    "# the filename should be \"userinfo.csv\"\n",
    "# It should have 2 columns: Username, Password\n",
    "# After writing to file successfully, print \"Write to file successful!\n",
    "import csv\n",
    "\n",
    "class AuthenticationIOcsv(Authentication):\n",
    "    def write_info(self):\n",
    "        fname='userinfo.csv'\n",
    "        # fill in your code\n",
    "        # remove pass after your implementation is complete\n",
    "        # Python's \"with\" will close the file.\n",
    "        with open(fname, 'w') as f:\n",
    "            f.write(\"Username,Password\\n\")\n",
    "            for u in self.user_dict:\n",
    "                f.write(\"{},{}\\n\".format(u, self.user_dict[u]))\n",
    "                print(\"Write to file successful!\")\n",
    "# Main Program\n",
    "auth = AuthenticationIOcsv()\n",
    "data_entry(auth)\n",
    "# writing to file\n",
    "auth.write_info()"
   ]
  },
  {
   "cell_type": "code",
   "execution_count": 10,
   "metadata": {},
   "outputs": [
    {
     "name": "stdout",
     "output_type": "stream",
     "text": [
      "['Username,Password\\n', 'jdoe,$234^%$\\n', 'sburry,456@#&^\\n', 'mfisc,%6&#$@#\\n', 'nhay,ildfu45\\n', 'bobama,klj43509jafd\\n', 'bgates,^&%kjsfd934@#$\\n', 'mcuban,9&4rl#nsf\\n']\n"
     ]
    }
   ],
   "source": [
    "# Question 2:\n",
    "# Read and print the contents of the CSV file \"userinfo.csv\"\n",
    "\n",
    "fname = \"userinfo.csv\"\n",
    "\n",
    "with open(fname) as f:\n",
    "    # fill in your code\n",
    "    # remove pass after your implementation is complete\n",
    "    print(f.readlines())"
   ]
  },
  {
   "cell_type": "code",
   "execution_count": 12,
   "metadata": {},
   "outputs": [
    {
     "name": "stdout",
     "output_type": "stream",
     "text": [
      "Registration successful\n",
      "Registration successful\n",
      "Registration successful\n",
      "Registration successful\n",
      "Registration successful\n",
      "Registration successful\n",
      "Registration successful\n"
     ]
    }
   ],
   "source": [
    "# Question 3:\n",
    "# Inherit the Authentication class to create a new child class called AuthenticationIO\n",
    "# add a new method called write_info()\n",
    "# which writes all the usernames and passwords to a json file (never recommended in re\n",
    "# the filename should be \"userinfo.json\"\n",
    "# It should have Username as the key, Password as the value\n",
    "# After writing to file successfully, print \"Write to file successful!\"\n",
    "import json\n",
    "from pprint import pprint\n",
    "class AuthenticationIOjson(Authentication):\n",
    "    \n",
    "    def write_info(self):\n",
    "        fname = 'userinfo.json'\n",
    "        items_str = json.dumps(self.user_dict)\n",
    "        with open(fname, 'w') as f:\n",
    "            f.write(items_str)\n",
    "\n",
    "            # Main Program\n",
    "auth = AuthenticationIOjson()\n",
    "data_entry(auth)\n",
    "# writing to file\n",
    "auth.write_info()"
   ]
  },
  {
   "cell_type": "code",
   "execution_count": 13,
   "metadata": {},
   "outputs": [
    {
     "name": "stdout",
     "output_type": "stream",
     "text": [
      "{'bgates': '^&%kjsfd934@#$',\n",
      " 'bobama': 'klj43509jafd',\n",
      " 'jdoe': '$234^%$',\n",
      " 'mcuban': '9&4rl#nsf',\n",
      " 'mfisc': '%6&#$@#',\n",
      " 'nhay': 'ildfu45',\n",
      " 'sburry': '456@#&^'}\n"
     ]
    }
   ],
   "source": [
    "# Question 4:\n",
    "# Read and print the contents of the json file \"userinfo.json\"\n",
    "import json\n",
    "fname = 'userinfo.json'\n",
    "with open(fname, 'r') as f:\n",
    "    info = json.load(f)\n",
    "    pprint(info)"
   ]
  },
  {
   "cell_type": "code",
   "execution_count": 15,
   "metadata": {},
   "outputs": [
    {
     "name": "stdout",
     "output_type": "stream",
     "text": [
      "Its A Happy Day In Bloomington #happy\n"
     ]
    }
   ],
   "source": [
    "# Question 5\n",
    "# Given a string,strip all the white spaces on both sides of the string\n",
    "# Then, capitalize first letter of all words\n",
    "# if first character is not an alphabet leave it as it is\n",
    "# and lower case the rest of the characters in each word\n",
    "tweet = \"      Its a happy day in bloomington #happy\"\n",
    "\n",
    "# strip all the white spaces and split the string to individual words\n",
    "words = tweet.strip('').split()\n",
    "formatted_words = []\n",
    "for w in words:\n",
    "    # check if the first character is an alphabet\n",
    "    if w.isalpha():\n",
    "        formatted_words.append(w.capitalize())\n",
    "    else:\n",
    "        formatted_words.append(w)\n",
    "\n",
    "# join all the words in formatter_words to create a single string\n",
    "formatted_tweet = ' '.join(w for w in formatted_words)\n",
    "\n",
    "print(formatted_tweet)"
   ]
  },
  {
   "cell_type": "code",
   "execution_count": 1,
   "metadata": {},
   "outputs": [
    {
     "name": "stdout",
     "output_type": "stream",
     "text": [
      "Found the address 47408\n",
      "Found the state IN\n",
      "Found the street 2706 10th Street, Bloomington\n"
     ]
    }
   ],
   "source": [
    "import re\n",
    "addr = \"2706 10th Street, Bloomington, IN - 47408\"\n",
    "zip_expr = r'\\d\\d\\d\\d\\d'\n",
    "street_expr = r'^\\d+ \\d+\\w* (Street|St|st), [A-Z]\\w*'\n",
    "state_expr = r'[A-Z][A-Z]'\n",
    "\n",
    "zip_regex = re.compile(zip_expr)\n",
    "zip_match = zip_regex.search(addr)\n",
    "if zip_match:\n",
    "    print(\"Found the address {}\".format(zip_match.group()))\n",
    "else:\n",
    "    print(\"No match!\")\n",
    "\n",
    "state_regex = re.compile(state_expr)\n",
    "state_match = state_regex.search(addr)\n",
    "if state_match:\n",
    "    print(\"Found the state {}\".format(state_match.group()))\n",
    "else:\n",
    "    print(\"No match!\")\n",
    "\n",
    "street_regex = re.compile(street_expr)\n",
    "street_match = street_regex.search(addr)\n",
    "if street_match:\n",
    "    print(\"Found the street {}\".format(street_match.group()))\n",
    "else:\n",
    "    print(\"No match!\")\n"
   ]
  }
 ],
 "metadata": {
  "kernelspec": {
   "display_name": "Python 3",
   "language": "python",
   "name": "python3"
  },
  "language_info": {
   "codemirror_mode": {
    "name": "ipython",
    "version": 3
   },
   "file_extension": ".py",
   "mimetype": "text/x-python",
   "name": "python",
   "nbconvert_exporter": "python",
   "pygments_lexer": "ipython3",
   "version": "3.6.3"
  }
 },
 "nbformat": 4,
 "nbformat_minor": 2
}
