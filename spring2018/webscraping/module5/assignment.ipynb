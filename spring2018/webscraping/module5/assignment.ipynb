{
 "cells": [
  {
   "cell_type": "code",
<<<<<<< HEAD
   "execution_count": 2,
=======
   "execution_count": 3,
>>>>>>> b034b4c31c98241b066e6c1d3e7af2de79fe5f60
   "metadata": {
    "collapsed": true
   },
   "outputs": [],
   "source": [
<<<<<<< HEAD
    "class Authentication:\n",
    "    def __init__(self):\n",
    "        # instantiate an instance variable\n",
    "        self.user_dict = {}\n",
    "    \n",
    "    def register_user(self, uname, passwd):\n",
    "        if uname in self.user_dict:\n",
    "            print(\"Username exists! Try a new one.\")\n",
    "            return False\n",
    "        else:\n",
    "            self.user_dict[uname] = passwd\n",
    "            print(\"Registration successful\" )\n",
    "            return True"
   ]
  },
  {
   "cell_type": "code",
   "execution_count": 3,
   "metadata": {},
   "outputs": [
    {
     "name": "stdout",
     "output_type": "stream",
     "text": [
      "Registration successful\n",
      "Registration successful\n",
      "Registration successful\n",
      "Registration successful\n",
      "Registration successful\n",
      "Registration successful\n",
      "Registration successful\n"
     ]
    }
   ],
   "source": [
    "def data_entry(auth):\n",
    "\n",
    "    # registering 3 users\n",
    "    auth.register_user('jdoe', '$234^%$') # Jane Doe\n",
    "    auth.register_user('sburry', '456@#&^') # Sam Burry\n",
    "    auth.register_user('mfisc', '%6&#$@#') # Mike Fischer\n",
    "    auth.register_user('nhay', 'ildfu45') # Nicky Hailey\n",
    "    auth.register_user('bobama', 'klj43509jafd') # Barack Obama\n",
    "    auth.register_user('bgates', '^&%kjsfd934@#$') # Bill Gates \n",
    "    auth.register_user('mcuban', '9&4rl#nsf') # Mark Cuban\n",
    "\n",
    "# Main program\n",
    "auth = Authentication()\n",
    "data_entry(auth)"
   ]
  },
  {
   "cell_type": "code",
   "execution_count": 13,
   "metadata": {},
   "outputs": [
    {
     "name": "stdout",
     "output_type": "stream",
     "text": [
      "Registration successful\n",
      "Registration successful\n",
      "Registration successful\n",
      "Registration successful\n",
      "Registration successful\n",
      "Registration successful\n",
      "Registration successful\n",
      "Write to file successful!\n"
     ]
    }
   ],
   "source": [
    "# Question 1:\n",
    "# Inherit the Authentication class to create a new child class called AuthenticationIOcsv\n",
    "# add a new method called write_info()\n",
    "# which writes all the usernames and passwords to a CSV file (never recommended in real life)\n",
    "# the filename should be \"userinfo.csv\"\n",
    "# It should have 2 columns: Username, Password\n",
    "# After writing to file successfully, print \"Write to file successful!\"\n",
    "\n",
    "import csv\n",
    "\n",
    "class AuthenticationIOcsv(Authentication):\n",
    "    def write_info(self):\n",
    "        fname='userinfo.csv'\n",
    "        \n",
    "        # fill in your code\n",
    "        # remove pass after your implementation is complete\n",
    "        # Python's \"with\" will close the file.\n",
    "        with open(fname, 'w') as f:\n",
    "            f.write(\"Username,Password\\n\")\n",
    "            for u in self.user_dict:\n",
    "                f.write(\"{},{}\\n\".format(u, self.user_dict[u]))\n",
    "        print(\"Write to file successful!\")\n",
    "        \n",
    "# Main Program\n",
    "auth = AuthenticationIOcsv()\n",
    "data_entry(auth)\n",
    "\n",
    "# writing to file\n",
    "auth.write_info()\n"
   ]
  },
  {
   "cell_type": "code",
   "execution_count": 23,
   "metadata": {},
   "outputs": [
    {
     "name": "stdout",
     "output_type": "stream",
     "text": [
      "Registration successful\n",
      "Registration successful\n",
      "Registration successful\n",
      "Registration successful\n",
      "Registration successful\n",
      "Registration successful\n",
      "Registration successful\n"
     ]
    }
   ],
   "source": [
    "# Question 3:\n",
    "# Inherit the Authentication class to create a new child class called AuthenticationIOjson\n",
    "# add a new method called write_info()\n",
    "# which writes all the usernames and passwords to a json file (never recommended in real life)\n",
    "# the filename should be \"userinfo.json\"\n",
    "# It should have Username as the key, Password as the value \n",
    "# After writing to file successfully, print \"Write to file successful!\"\n",
    "\n",
    "import json\n",
    "from pprint import pprint \n",
    "\n",
    "class AuthenticationIOjson(Authentication):\n",
    "    \n",
    "    def write_info(self):\n",
    "        fname = 'userinfo.json'\n",
    "        items_str = json.dumps(self.user_dict)\n",
    "        with open(fname, 'w') as f:\n",
    "            f.write(items_str)\n",
    "\n",
    "# Main Program\n",
    "auth = AuthenticationIOjson()\n",
    "data_entry(auth)\n",
    "\n",
    "# writing to file\n",
    "auth.write_info()\n"
=======
    "# Question 1\n",
    "# In the given class definition, modify the constructor such that a new instance variable \"user_dict\" is intialized\n",
    "# with an empty dictionary\n",
    "\n",
    "# For now just fill the blanks here. Later, we shall join all the pieces together\n",
    "# do not execute this cell\n",
    "\n",
    "def __init__(self, user_dict):\n",
    "    # instantiate an instance variable\n",
    "    self.user_dict = dict()"
>>>>>>> b034b4c31c98241b066e6c1d3e7af2de79fe5f60
   ]
  },
  {
   "cell_type": "code",
<<<<<<< HEAD
   "execution_count": 24,
   "metadata": {},
   "outputs": [
    {
     "name": "stdout",
     "output_type": "stream",
     "text": [
      "{'bgates': '^&%kjsfd934@#$',\n",
      " 'bobama': 'klj43509jafd',\n",
      " 'jdoe': '$234^%$',\n",
      " 'mcuban': '9&4rl#nsf',\n",
      " 'mfisc': '%6&#$@#',\n",
      " 'nhay': 'ildfu45',\n",
      " 'sburry': '456@#&^'}\n"
     ]
    }
   ],
   "source": [
    "# Question 4:\n",
    "# Read and print the contents of the json file \"userinfo.json\"\n",
    "\n",
    "import json\n",
    "\n",
    "fname = 'userinfo.json'\n",
    "\n",
    "with open(fname, 'r') as f:\n",
    "    info = json.load(f)\n",
    "\n",
    "pprint(info)"
=======
   "execution_count": 6,
   "metadata": {
    "collapsed": true
   },
   "outputs": [],
   "source": [
    "# Question 2\n",
    "# Now, modify the register_user() method such that it takes two arguments: uname and passwd\n",
    "# The function should check if the given username exists in user_dict\n",
    "# If username exists, print \"Username exists! Try a new one.\" and return False\n",
    "# Else, add the username and password to user_dict, print \"Registration successful\" and return True\n",
    "\n",
    "\n",
    "# For now just fill the blanks here. Later, we shall join all the pieces together\n",
    "# do not execute this cell\n",
    "\n",
    "def register_user(self, uname, passwd):\n",
    "    if uname in self.user_dict:\n",
    "        print(\"Username exists!  Try a new one.\")\n",
    "        return False\n",
    "    else:\n",
    "        self.user_dict[uname] = passwd\n",
    "        print(\"Registration successful.\")\n",
    "        return True\n",
    "    "
>>>>>>> b034b4c31c98241b066e6c1d3e7af2de79fe5f60
   ]
  },
  {
   "cell_type": "code",
<<<<<<< HEAD
   "execution_count": 28,
   "metadata": {},
   "outputs": [
    {
     "name": "stdout",
     "output_type": "stream",
     "text": [
      "Its A Happy Day In Bloomington #happy\n"
     ]
    }
   ],
   "source": [
    "# Question 5\n",
    "# Given a string,strip all the white spaces on both sides of the string \n",
    "# Then, capitalize first letter of all words \n",
    "# if first character is not an alphabet leave it as it is\n",
    "# and lower case the rest of the characters in each word\n",
    "\n",
    "tweet = \"     Its a happy day in bloomington #happy            \"\n",
    "\n",
    "# strip all the white spaces and split the string to individual words\n",
    "words = tweet.strip('').split()\n",
    "\n",
    "formatted_words = []\n",
    "for w in words:\n",
    "    # check if the first character is an alphabet\n",
    "    if w.isalpha():\n",
    "        formatted_words.append(w.capitalize())\n",
    "    else:\n",
    "        formatted_words.append(w)\n",
    "\n",
    "# join all the words in formatter_words to create a single string\n",
    "formatted_tweet = ' '.join(w for w in formatted_words)\n",
    "print(formatted_tweet)"
=======
   "execution_count": 9,
   "metadata": {},
   "outputs": [],
   "source": [
    "# Question 3\n",
    "# Now, modify the authorize_user() method such that it takes two arguments: uname and passwd\n",
    "# The function should look to match a username (key) and its corresponding value in user_dict\n",
    "# if username and password match, print \"User authorized.\" and return True\n",
    "# else print \"Invalid credentials\" and return False\n",
    "\n",
    "# For now just fill the blanks here. Later, we shall join all the pieces together\n",
    "# do not execute this cell\n",
    "\n",
    "def authorize_user(self, uname, passwd):\n",
    "    if uname in self.user_dict and self.user_dict[uname] == passwd:\n",
    "        print(\"User authorized.\")\n",
    "        return True\n",
    "    else:\n",
    "        print(\"Invalid credentials.\")\n",
    "        return False"
>>>>>>> b034b4c31c98241b066e6c1d3e7af2de79fe5f60
   ]
  },
  {
   "cell_type": "code",
<<<<<<< HEAD
   "execution_count": 31,
   "metadata": {},
   "outputs": [
    {
     "name": "stdout",
     "output_type": "stream",
     "text": [
      "Found the address.\n"
     ]
    }
   ],
   "source": [
    "# Question 6\n",
    "# In the following address, find the Street address, State, Zipcode using regular expressions\n",
    "\n",
    "import re\n",
    "\n",
    "addr = \"2706 10th Street, Bloomington, IN - 47408\"\n",
    "zip_expr = r'\\d\\d\\d\\d\\d'\n",
    "\n",
    "# Since expression is ready, create a 'regex' object using re.compile()\n",
    "zip_regex = re.compile(zip_expr)\n",
    "\n",
    "# Search for the zip pattern in the given address\n",
    "# use zip_regex.search(address)\n",
    "zip_match = zip_regex.search(addr)\n",
    "\n",
    "if zip_match:\n",
    "    print(\"Found the address.\")\n",
    "else:\n",
    "    print(\"No match!\")"
=======
   "execution_count": 12,
   "metadata": {
    "collapsed": true
   },
   "outputs": [],
   "source": [
    "# Question 4\n",
    "# Now, lets add a new method: remove_user()\n",
    "# the method takes one argument: uname\n",
    "# The function should find a key corresponding to uname and remove it from the dictionary\n",
    "# if uname is present in the dictionary, delete the entry from the dictionary, print \"User removed.\", and return True\n",
    "# else print \"Invalid username\" and return False\n",
    "\n",
    "# For now just fill the blanks here. Later, we shall join all the pieces together\n",
    "# do not execute this cell\n",
    "\n",
    "def remove_user(self, uname):\n",
    "    if uname in self.user_dict:\n",
    "        del self.user_dict[uname] \n",
    "        print(\"User removed.\")\n",
    "        return True\n",
    "    else:\n",
    "        print(\"Invalid username\")\n",
    "        return False"
>>>>>>> b034b4c31c98241b066e6c1d3e7af2de79fe5f60
   ]
  },
  {
   "cell_type": "code",
<<<<<<< HEAD
   "execution_count": 32,
   "metadata": {},
   "outputs": [
    {
     "name": "stdout",
     "output_type": "stream",
     "text": [
      "The number found is: 10\n"
     ]
    }
   ],
   "source": [
    "# Example 7\n",
    "# Matching simple expressions\n",
    "\n",
    "import re\n",
    "\n",
    "# This is the format of a typical address in US\n",
    "address = \"10TH STREET, BLOOMINGTON, IN - 47408\"\n",
    "\n",
    "# Using '\\d+' as expression for zipcode\n",
    "zip_expr = r'\\d+'\n",
    "\n",
    "# Since expression is ready, create a 'regex' object using re.compile()\n",
    "zip_regex = re.compile(zip_expr)\n",
    "\n",
    "# Search for the zip pattern in the given address\n",
    "# use zip_regex.search(address)\n",
    "zip_match = zip_regex.search(address)\n",
    "\n",
    "# If there is no match found for given pattern, zip_match would be None\n",
    "# So, before printing the zip_match.group(), check for NoneType\n",
    "\n",
    "if zip_match:\n",
    "    print('The number found is:', zip_match.group())\n",
    "else:\n",
    "    print('No match found!')"
=======
   "execution_count": 13,
   "metadata": {
    "collapsed": true
   },
   "outputs": [],
   "source": [
    "# Question 5\n",
    "# Now, lets add a new method: get_user_list()\n",
    "# the method takes no arguments\n",
    "# The function should return a list of all the users in the dictionary\n",
    "\n",
    "# For now just fill the blanks here. Later, we shall join all the pieces together\n",
    "# do not execute this cell\n",
    "\n",
    "def get_user_list(self):\n",
    "    return self.user_dict.items()\n"
>>>>>>> b034b4c31c98241b066e6c1d3e7af2de79fe5f60
   ]
  },
  {
   "cell_type": "code",
<<<<<<< HEAD
   "execution_count": 33,
   "metadata": {},
   "outputs": [
    {
     "name": "stdout",
     "output_type": "stream",
     "text": [
      "The tweet has the following hash-tag: #happy\n"
     ]
    }
   ],
   "source": [
    "# Example 8\n",
    "# Matching simple expressions\n",
    "# Extracting hashtag from tweet\n",
    "\n",
    "import re\n",
    "\n",
    "# A random tweet\n",
    "tweet = \"Happy Birthday #happy\"\n",
    "\n",
    "# Format of hashtag is '#' symbol followed by some alphanumeric text\n",
    "# THe expression '#\\w+' searches for '#' symbol followed by alphanumeric string, with atlest one character\n",
    "tag_expr = r'#\\w+'\n",
    "\n",
    "# Since expression is ready, create a 'regex' object using re.compile()\n",
    "tag_regex = re.compile(tag_expr)\n",
    "\n",
    "# Search for the tag pattern in the given tweet\n",
    "# use tag_regex.search(tweet)\n",
    "tag_match = tag_regex.search(tweet)\n",
    "\n",
    "if tag_match:\n",
    "    print('The tweet has the following hash-tag:', tag_match.group())\n",
    "else:\n",
    "    print('No match found!')"
   ]
  },
  {
   "cell_type": "code",
   "execution_count": 34,
   "metadata": {},
   "outputs": [
    {
     "name": "stdout",
     "output_type": "stream",
     "text": [
      "Method 1:\n",
      "Area code: 989\n",
      "Line number: 234-5678\n",
      "\n",
      "Method 2:\n",
      "Match Object contents: ()\n"
     ]
    },
    {
     "ename": "IndexError",
     "evalue": "no such group",
     "output_type": "error",
     "traceback": [
      "\u001b[1;31m---------------------------------------------------------------------------\u001b[0m",
      "\u001b[1;31mIndexError\u001b[0m                                Traceback (most recent call last)",
      "\u001b[1;32m<ipython-input-34-b1e428891b11>\u001b[0m in \u001b[0;36m<module>\u001b[1;34m()\u001b[0m\n\u001b[0;32m     48\u001b[0m     \u001b[0mprint\u001b[0m\u001b[1;33m(\u001b[0m\u001b[1;34m'Method 2:'\u001b[0m\u001b[1;33m)\u001b[0m\u001b[1;33m\u001b[0m\u001b[0m\n\u001b[0;32m     49\u001b[0m     \u001b[0mprint\u001b[0m\u001b[1;33m(\u001b[0m\u001b[1;34m'Match Object contents:'\u001b[0m\u001b[1;33m,\u001b[0m \u001b[0mnum_match2\u001b[0m\u001b[1;33m.\u001b[0m\u001b[0mgroups\u001b[0m\u001b[1;33m(\u001b[0m\u001b[1;33m)\u001b[0m\u001b[1;33m)\u001b[0m\u001b[1;33m\u001b[0m\u001b[0m\n\u001b[1;32m---> 50\u001b[1;33m     \u001b[0mprint\u001b[0m\u001b[1;33m(\u001b[0m\u001b[1;34m'Area code:'\u001b[0m\u001b[1;33m,\u001b[0m \u001b[0mnum_match2\u001b[0m\u001b[1;33m.\u001b[0m\u001b[0mgroup\u001b[0m\u001b[1;33m(\u001b[0m\u001b[1;36m1\u001b[0m\u001b[1;33m)\u001b[0m\u001b[1;33m)\u001b[0m\u001b[1;33m\u001b[0m\u001b[0m\n\u001b[0m\u001b[0;32m     51\u001b[0m     \u001b[0mprint\u001b[0m\u001b[1;33m(\u001b[0m\u001b[1;34m'Line number:'\u001b[0m\u001b[1;33m,\u001b[0m \u001b[0mnum_match2\u001b[0m\u001b[1;33m.\u001b[0m\u001b[0mgroup\u001b[0m\u001b[1;33m(\u001b[0m\u001b[1;36m2\u001b[0m\u001b[1;33m)\u001b[0m\u001b[1;33m)\u001b[0m\u001b[1;33m\u001b[0m\u001b[0m\n\u001b[0;32m     52\u001b[0m \u001b[1;32melse\u001b[0m\u001b[1;33m:\u001b[0m\u001b[1;33m\u001b[0m\u001b[0m\n",
      "\u001b[1;31mIndexError\u001b[0m: no such group"
     ]
    }
   ],
   "source": [
    "# Example 9\n",
    "# Grouping expressions\n",
    "\n",
    "# Phone Number Extraction\n",
    "# One of the classical examples to explain grouping of Regular Expressions\n",
    "\n",
    "# In U.S, the phone numbers have a definite format, just like Zipcode\n",
    "# 999-555-1234, (999) 555-1234 are some common formats\n",
    "# 999 is the Area Code\n",
    "# 555-1234 is the line number\n",
    "\n",
    "\n",
    "# In this example, from the given text, we extract the phone number (if any)\n",
    "# Then find the area code and line number\n",
    "# This can be done in 2 methods. Both the methods are illustrated\n",
    "\n",
    "# Method 1\n",
    "# Straight Approach\n",
    "# Using group() method\n",
    "text = r'I am Bob and my phone number is 989-234-5678'\n",
    "num_expr = r'\\d\\d\\d-\\d\\d\\d-\\d\\d\\d\\d'\n",
    "\n",
    "num_regex = re.compile(num_expr)\n",
    "num_match = num_regex.search(text)\n",
    "\n",
    "if num_match:\n",
    "    print('Method 1:')\n",
    "    num = num_match.group()\n",
    "    print('Area code:', num[:3])\n",
    "    print('Line number:', num[4:])\n",
    "    print()\n",
    "else:\n",
    "    print('No match found!')\n",
    "\n",
    "\n",
    "# Method 2 \n",
    "# Grouping in Expressions using parenthesis '()'\n",
    "# Using groups() method\n",
    "\n",
    "text2 = r'I am Bob and my phone number is 989-234-5678'\n",
    "# Enclosing expressions in parenthesis \n",
    "num_expr2 = r'(\\d\\d\\d)-(\\d\\d\\d-\\d\\d\\d\\d)'\n",
    "\n",
    "num_regex2 = re.compile(num_expr2)\n",
    "num_match2 = num_regex.search(text2)\n",
    "\n",
    "if num_match2:\n",
    "    print('Method 2:')\n",
    "    print('Match Object contents:', num_match2.groups())\n",
    "    print('Area code:', num_match2.group(1))\n",
    "    print('Line number:', num_match2.group(2))\n",
    "else:\n",
    "    print('No match found!')"
=======
   "execution_count": 16,
   "metadata": {
    "collapsed": true
   },
   "outputs": [],
   "source": [
    "# Question 6\n",
    "# Now, combine all the methods into the class and EXECUTE the cell with all the implementations\n",
    "\n",
    "# Instructions: Create the class definition and add all the methods you just defined.\n",
    "# Next execute the cell\n",
    "class Authentication:\n",
    "    \n",
    "    def __init__(self):\n",
    "        # instantiate an instance variable\n",
    "        self.user_dict = dict()\n",
    "\n",
    "    def register_user(self, uname, passwd):\n",
    "        if uname in self.user_dict:\n",
    "            print(\"Username exists!  Try a new one.\")\n",
    "            return False\n",
    "        else:\n",
    "            self.user_dict[uname] = passwd\n",
    "            print(\"Registration successful.\")\n",
    "            return True\n",
    "    \n",
    "    def authorize_user(self, uname, passwd):\n",
    "        if uname in self.user_dict and self.user_dict[uname] == passwd:\n",
    "            print(\"User authorized.\")\n",
    "            return True\n",
    "        else:\n",
    "            print(\"Invalid credentials.\")\n",
    "            return False\n",
    "\n",
    "    def remove_user(self, uname):\n",
    "        if uname in self.user_dict:\n",
    "            del self.user_dict[uname] \n",
    "            print(\"User removed.\")\n",
    "            return True\n",
    "        else:\n",
    "            print(\"Invalid username\")\n",
    "            return False\n",
    "        \n",
    "    def get_user_list(self):\n",
    "        return self.user_dict.items()"
>>>>>>> b034b4c31c98241b066e6c1d3e7af2de79fe5f60
   ]
  },
  {
   "cell_type": "code",
<<<<<<< HEAD
   "execution_count": 35,
=======
   "execution_count": 17,
>>>>>>> b034b4c31c98241b066e6c1d3e7af2de79fe5f60
   "metadata": {},
   "outputs": [
    {
     "name": "stdout",
     "output_type": "stream",
     "text": [
<<<<<<< HEAD
      "Method 1: Using findall()\n",
      "The tweet has the following hash-tags: ['#happy', '#bff', '#bday']\n",
      "\n",
      "Method 2: Using finditer()\n",
      "The tweet has the following hash-tags: #happy, #bff, #bday, \n"
=======
      "Registration successful.\n",
      "Registration successful.\n",
      "Registration successful.\n",
      "dict_items([('jdoe', '$234^%$'), ('sburry', '456@#&^'), ('mfisc', '%6&#$@#')])\n",
      "Username exists!  Try a new one.\n",
      "User authorized.\n",
      "Invalid credentials.\n",
      "User removed.\n",
      "Invalid username\n"
>>>>>>> b034b4c31c98241b066e6c1d3e7af2de79fe5f60
     ]
    }
   ],
   "source": [
<<<<<<< HEAD
    "# Example 9\n",
    "# Extracting multiple hashtags from tweet\n",
    "# Using findall(), finditer()\n",
    "\n",
    "import re\n",
    "\n",
    "# A random tweet\n",
    "tweet = \"Happy Birthday #happy #bff #bday\"\n",
    "\n",
    "# Format of hashtag is '#' symbol followed by some alphanumeric text\n",
    "# The expression '#\\w+' searches for '#' symbol followed by alphanumeric string, with atlest one character\n",
    "tag_expr = r'#\\w+'\n",
    "\n",
    "# Since expression is ready, create a 'regex' object using re.compile()\n",
    "tag_regex = re.compile(tag_expr)\n",
    "\n",
    "# ---------------------------------------------------------------------------------------------------------------\n",
    "# Method 1\n",
    "\n",
    "# Using findall()\n",
    "# Search for the tag pattern in the given tweet\n",
    "# use tag_regex.findall(tweet) to find all the instances in the text that match the pattern\n",
    "tag_list = tag_regex.findall(tweet)\n",
    "\n",
    "if tag_list:\n",
    "    print('Method 1: Using findall()')\n",
    "    print('The tweet has the following hash-tags:', tag_list)\n",
    "    print()\n",
    "else:\n",
    "    print('No match found!')\n",
    "    \n",
    "\n",
    "# ---------------------------------------------------------------------------------------------------------------\n",
    "# Method 2\n",
    "\n",
    "# Using finditer()\n",
    "# Search for the tag pattern in the given tweet\n",
    "# use tag_regex.findall(tweet) to find all the instances in the text that match the pattern\n",
    "tag_iter = tag_regex.finditer(tweet)\n",
    "\n",
    "if tag_iter:\n",
    "    print('Method 2: Using finditer()')\n",
    "    # The optional 'end' parameter is the reason why we get newline by default for each print()\n",
    "    # Here, we set end=' ', to avoid the new line and for spacing between each print statement\n",
    "    print('The tweet has the following hash-tags:', end=' ')\n",
    "    for tag in tag_iter:\n",
    "        # Using group() method to access the match in each iteration\n",
    "        print(tag.group(), end=', ')\n",
    "    print()\n",
    "else:\n",
    "    print('No match found!')"
=======
    "# Execute the cell and compare the results with expected results\n",
    "\n",
    "def test(auth):\n",
    "\n",
    "    # registering 3 users\n",
    "    auth.register_user('jdoe', '$234^%$') # Jane Doe\n",
    "    auth.register_user('sburry', '456@#&^') # Sam Burry\n",
    "    auth.register_user('mfisc', '%6&#$@#') # Mike Fischer\n",
    "\n",
    "    # list all the users\n",
    "    print(auth.get_user_list()) # should pring jdoe, sburry, mfisc\n",
    "\n",
    "    # registering Jon Doe results in failure\n",
    "    auth.register_user('jdoe', '5sadf23@%g%&^') # Failed registration of Jon Doe\n",
    "\n",
    "    # Authorizing users\n",
    "    auth.authorize_user('mfisc', '%6&#$@#') # success message\n",
    "    auth.authorize_user('jdoe', 'jlasdfjlasdf') # failure message\n",
    "\n",
    "    # removing users\n",
    "    auth.remove_user('jdoe') # success message\n",
    "    auth.remove_user('jake') # failure message\n",
    "\n",
    "    \n",
    "\n",
    "#\n",
    "# Main Program\n",
    "#\n",
    "# instantiating Authentication object\n",
    "auth_obj = Authentication()\n",
    "# calling test function\n",
    "test(auth_obj)\n"
>>>>>>> b034b4c31c98241b066e6c1d3e7af2de79fe5f60
   ]
  },
  {
   "cell_type": "code",
<<<<<<< HEAD
   "execution_count": 38,
   "metadata": {},
   "outputs": [
    {
     "name": "stdout",
     "output_type": "stream",
     "text": [
      "The word starting with \"A\" and of min length 5 is : Amy; \n"
     ]
    }
   ],
   "source": [
    "# Example 10\n",
    "# Special character: . (dot)\n",
    "\n",
    "import re\n",
    "\n",
    "text = 'Happy Birthday Amy\\n Happy Birthday Alice'\n",
    "text2 = 'Happy Birthday Amy; Happy Birthday Alice'\n",
    "\n",
    "\n",
    "# . (dot) operator\n",
    "# Expression to find a word that starts with 'A' and has at least 4 characters following it\n",
    "# We use '.' operator beacuse, it can match any character, except newline. It can even match newline by setting appropriate flag\n",
    "expr1 = 'A....'\n",
    "dot_regex = re.compile(expr1)\n",
    "\n",
    "dot_match = dot_regex.search(text)\n",
    "dot_match = dot_regex.search(text2)\n",
    "\n",
    "if dot_match:\n",
    "    print('The word starting with \"A\" and of min length 5 is :', dot_match.group())\n",
    "else:\n",
    "    print('No match found')\n",
    "    \n",
    "    \n",
    "# Explaination:\n",
    "# Although Amy starts with 'A', the 3rd dot operator could not match the new line. \n",
    "# So, the regex engine goes ahead in search of another word that starts with 'A' and has a min length of 5.\n",
    "# If we used text2 to find a match, the result would be 'Amy, '\n",
    "# Try this. Uncomment \"dot_match = dot_regex.search(text2)\" and see what happens"
=======
   "execution_count": 18,
   "metadata": {
    "collapsed": true
   },
   "outputs": [],
   "source": [
    "# Question 7\n",
    "# In the remove_user() method, we used if..else block to implement the functionality\n",
    "# lets replace if..else with try..catch block\n",
    "# try deleting the key, print \"User removed.\", and return True if successful\n",
    "# if there is a KeyError, catch the error, print \"Invalid username\" and return False\n",
    "\n",
    "# For now just fill the blanks here. Later, we shall join all the pieces together\n",
    "# do not execute this cell\n",
    "\n",
    "def remove_user(self, uname):\n",
    "    try:\n",
    "        del self.user_dict[uname] \n",
    "        print(\"User removed.\")\n",
    "        return True\n",
    "    except KeyError:\n",
    "        print(\"Invalid username\")\n",
    "        return False\n"
>>>>>>> b034b4c31c98241b066e6c1d3e7af2de79fe5f60
   ]
  },
  {
   "cell_type": "code",
<<<<<<< HEAD
   "execution_count": 40,
=======
   "execution_count": 20,
>>>>>>> b034b4c31c98241b066e6c1d3e7af2de79fe5f60
   "metadata": {},
   "outputs": [
    {
     "name": "stdout",
     "output_type": "stream",
     "text": [
<<<<<<< HEAD
      "RT: Congratulations @XYZ : is a retweet:\n",
      "There are only 10 types of people. Those who understand binary and those who don't. (sic) : is a quote\n"
=======
      "Registration successful.\n",
      "Registration successful.\n",
      "Registration successful.\n",
      "dict_items([('jdoe', '$234^%$'), ('sburry', '456@#&^'), ('mfisc', '%6&#$@#')])\n",
      "Username exists!  Try a new one.\n",
      "User authorized.\n",
      "Invalid credentials.\n",
      "User removed.\n",
      "Invalid username\n"
>>>>>>> b034b4c31c98241b066e6c1d3e7af2de79fe5f60
     ]
    }
   ],
   "source": [
<<<<<<< HEAD
    "# Example 11\n",
    "# Special character: ^, $ \n",
    "\n",
    "import re\n",
    "\n",
    "# The following text is the typical format of a retweet in Twitter\n",
    "# A retweet starts with 'RT'\n",
    "text = 'RT: Congratulations @XYZ'\n",
    "\n",
    "# ^ (caret) operator\n",
    "# Expression to find a sentence/line that starts with the RT\n",
    "# We use '^' operator beacuse, it returns a match only if it is at the beginning of the sentence\n",
    "# This is similar to startswith() method of strings. But, startswith() checks only at the start of that string.\n",
    "# ^ RE can be configured to search after each newline.\n",
    "expr1 = '^RT'\n",
    "retweet_regex = re.compile(expr1)\n",
    "\n",
    "retweet_match = retweet_regex.search(text)\n",
    "\n",
    "if retweet_match:\n",
    "    print(text, ': is a retweet:')\n",
    "else:\n",
    "    print(text, ': is not a retweet')\n",
    "    \n",
    "# ----------------------------------------------------------------------------------------------------------------------\n",
    "    \n",
    "# The following text is the typical format of a retweet in Twitter\n",
    "# A quoted text typically ends with (sic)\n",
    "text2 = 'There are only 10 types of people. Those who understand binary and those who don\\'t. (sic)'\n",
    "\n",
    "# $ operator\n",
    "# Expression to find a sentence/line that starts with the (sic)\n",
    "# We use '\\(' to escape grouping operator\n",
    "expr2 = '\\(sic\\)$'\n",
    "quote_regex = re.compile(expr2)\n",
    "\n",
    "quote_match = quote_regex.search(text2)\n",
    "\n",
    "if quote_match:\n",
    "    print(text2, ': is a quote')\n",
    "else:\n",
    "    print(text2, ': is not a quote')"
=======
    "# Now, create a new definition of Authentication class named, 'Authentication2'\n",
    "# replace the remove_user functionality using inheritance\n",
    "# and run the test() using the new object\n",
    "\n",
    "# inherit Authentication class\n",
    "class Authentication2(Authentication):\n",
    "    def remove_user(self, uname):\n",
    "        try:\n",
    "            del self.user_dict[uname] \n",
    "            print(\"User removed.\")\n",
    "            return True\n",
    "        except KeyError:\n",
    "            print(\"Invalid username\")\n",
    "            return False\n",
    "\n",
    "# main program\n",
    "\n",
    "auth2 = Authentication2()\n",
    "test(auth2)    \n",
    "    "
>>>>>>> b034b4c31c98241b066e6c1d3e7af2de79fe5f60
   ]
  },
  {
   "cell_type": "code",
<<<<<<< HEAD
   "execution_count": 41,
=======
   "execution_count": 21,
>>>>>>> b034b4c31c98241b066e6c1d3e7af2de79fe5f60
   "metadata": {},
   "outputs": [
    {
     "name": "stdout",
     "output_type": "stream",
     "text": [
<<<<<<< HEAD
      "The match using '\\w*(ni)+\\w*' found is: Panini\n",
      "The matches found using 'so?' are: ['s', 'so', 'so', 's']\n",
      "The matches found using 'so+' are: ['sooooooo', 'so']\n",
      "The matches found using 'so*' are: ['s', 'sooooooo', 'so', 's']\n"
=======
      "The current working directory is: \n",
      " /home/acatejr/workspace/webscraping/module5 \n",
      "\n",
      "['.ipynb_checkpoints', 'files', 'assignment.ipynb']\n",
      "/home/acatejr/workspace/webscraping/module5/files\n",
      "Hello world!\n"
>>>>>>> b034b4c31c98241b066e6c1d3e7af2de79fe5f60
     ]
    }
   ],
   "source": [
<<<<<<< HEAD
    "# Example 12\n",
    "# Special character: ?, *, +  \n",
    "\n",
    "import re\n",
    "\n",
    "text = \"Panini is sooooooo so tasty\"\n",
    "\n",
    "# Expression to find if 'ni' is repeated at least once\n",
    "# + asks regex to find word with 'ni' present atleast once\n",
    "# * asks regex to complete the word. \\w matches only non-space characters\n",
    "# Threfore, \\w* on either sides of (ni)+ ensure that the entire word is matched\n",
    "expr1 = r'\\w*(ni)+\\w*'\n",
    "\n",
    "regex1 = re.compile(expr1)\n",
    "match1 = regex1.search(text)\n",
    "\n",
    "if match1:\n",
    "    print('The match using \\'\\w*(ni)+\\w*\\' found is:', match1.group())\n",
    "else:\n",
    "    print('ni is not present in the text')\n",
    "    \n",
    "    \n",
    "# Matches just 's' or 'so' \n",
    "# Looks for sub-string with 's' followed by 1 or no 'o'\n",
    "expr2 = r'so?'\n",
    "regex2 = re.compile(expr2)\n",
    "match2 = regex2.findall(text)\n",
    "\n",
    "if match2:\n",
    "    print('The matches found using \\'so?\\' are:', match2)\n",
    "else:\n",
    "    print('so? is not present in the text')\n",
    "\n",
    "\n",
    "    \n",
    "# Using 'so+'\n",
    "# Matches words with 's' followed by atleast one 'o'\n",
    "expr3 = r'so+'\n",
    "regex3 = re.compile(expr3)\n",
    "match3 = regex3.findall(text)\n",
    "\n",
    "if match3:\n",
    "    print('The matches found using \\'so+\\' are:', match3)\n",
    "else:\n",
    "    print('so+ is not present in the text')\n",
    "\n",
    "\n",
    "    \n",
    "# Using '\\w*so*\\w*'\n",
    "# Matches words with 's' followed by none or any number of o's\n",
    "expr4 = r'so*'\n",
    "regex4 = re.compile(expr4)\n",
    "match4 = regex4.findall(text)\n",
    "\n",
    "if match4:\n",
    "    print('The matches found using \\'so*\\' are:', match4)\n",
    "else:\n",
    "    print('so+ is not present in the text')"
=======
    "# Question 8\n",
    "# This will be a small exercise to brush up your memory of the I/O commands\n",
    "\n",
    "import os\n",
    "\n",
    "# 1. Print your current directory\n",
    "cwd = os.getcwd() # get current directory\n",
    "print(\"The current working directory is:\", '\\n', cwd, \"\\n\")\n",
    "\n",
    "# 2. Create an few folder called \"files\" in your current directory and list all the files in your current directory\n",
    "os.makedirs('files') # create a new folder \"files\"\n",
    "print(os.listdir(cwd)) # print the contents of directory\n",
    "\n",
    "# 3. change your path to the new directory and print the current directory\n",
    "os.chdir('files') # change path to \"files\"\n",
    "print(os.getcwd()) # print current working directory\n",
    "\n",
    "# 4. open a file called 'sample.txt' in write ('w') mode\n",
    "f = open('sample.txt', 'w')\n",
    "\n",
    "# 5. Write \"Hello world!\" to the file\n",
    "f.write('Hello world!')\n",
    "\n",
    "# 6. close the file and terminate the program\n",
    "f.close()\n",
    "\n",
    "# 7. open in read ('r') mode, print the contents of sample.txt and close the file\n",
    "f = open('sample.txt', 'r')\n",
    "print(f.read())\n",
    "f.close()"
>>>>>>> b034b4c31c98241b066e6c1d3e7af2de79fe5f60
   ]
  },
  {
   "cell_type": "code",
<<<<<<< HEAD
   "execution_count": 42,
   "metadata": {},
   "outputs": [
    {
     "name": "stdout",
     "output_type": "stream",
     "text": [
      "The matches found are: Grey Gray Gray "
     ]
    }
   ],
   "source": [
    "# Example 12\n",
    "# Special character: |\n",
    "\n",
    "import re\n",
    "\n",
    "text = 'Grey is a neutral achromatic colour midway between white and black. In the US, Gray is spelled as Gray'\n",
    "\n",
    "# Expression to match Grey or Gray\n",
    "expr = r'Gr(e|a)y'\n",
    "regex1 = re.compile(expr)\n",
    "match_iter = regex1.finditer(text)\n",
    "\n",
    "if match_iter:\n",
    "    print('The matches found are:', end=' ')\n",
    "    for i in match_iter:\n",
    "        print(i.group(), end=' ')\n",
    "else:\n",
    "    print('No matches found!')"
   ]
=======
   "execution_count": null,
   "metadata": {
    "collapsed": true
   },
   "outputs": [],
   "source": []
>>>>>>> b034b4c31c98241b066e6c1d3e7af2de79fe5f60
  }
 ],
 "metadata": {
  "kernelspec": {
   "display_name": "Python 3",
   "language": "python",
   "name": "python3"
  },
  "language_info": {
   "codemirror_mode": {
    "name": "ipython",
    "version": 3
   },
   "file_extension": ".py",
   "mimetype": "text/x-python",
   "name": "python",
   "nbconvert_exporter": "python",
   "pygments_lexer": "ipython3",
   "version": "3.6.3"
  }
 },
 "nbformat": 4,
 "nbformat_minor": 2
}
