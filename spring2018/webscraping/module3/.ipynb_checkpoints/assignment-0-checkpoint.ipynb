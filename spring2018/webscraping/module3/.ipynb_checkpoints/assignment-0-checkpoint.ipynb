{
 "cells": [
  {
   "cell_type": "code",
   "execution_count": 8,
   "metadata": {},
   "outputs": [
    {
     "name": "stdout",
     "output_type": "stream",
     "text": [
      "\"How's everyone?\", asked Sam.\n"
     ]
    }
   ],
   "source": [
    "# Question 1 - \n",
    "# print the string within the (excluding) square braces with the double quotations and apostrophe \n",
    "# [\"How's everyone?\", asked Sam.]\n",
    "# Hint: Use raw strings or escape characters\n",
    "\n",
    "s = '\"How\\'s everyone?\", asked Sam.'\n",
    "print(s)"
   ]
  },
  {
   "cell_type": "code",
   "execution_count": 10,
   "metadata": {},
   "outputs": [
    {
     "name": "stdout",
     "output_type": "stream",
     "text": [
      "39\n"
     ]
    }
   ],
   "source": [
    "# Question 2\n",
    "# print the value of the following expression in integer form\n",
    "# 3 + 32 / 6 * 9 - 12\n",
    "# Hint: use int() function\n",
    "\n",
    "\n",
    "print(int(3 + 32 / 6 * 9 - 12))"
   ]
  },
  {
   "cell_type": "code",
   "execution_count": 12,
   "metadata": {},
   "outputs": [
    {
     "name": "stdout",
     "output_type": "stream",
     "text": [
      "[10, 9, 8, 7, 6, 5, 4, 3, 2, 1]\n"
     ]
    }
   ],
   "source": [
    "# Question 3\n",
    "# print numbers from 10 to 1 (decreasing order) using range() function\n",
    "# complete the range function\n",
    "\n",
    "print(list(range(10, 0, -1)))"
   ]
  },
  {
   "cell_type": "code",
   "execution_count": 15,
   "metadata": {},
   "outputs": [
    {
     "name": "stdout",
     "output_type": "stream",
     "text": [
      "Last name has 3 characters\n",
      "First name has 4 characters\n",
      "Full name is Doe, Jane and age in 10 years is 33\n"
     ]
    }
   ],
   "source": [
    "# Question 4\n",
    "# Write a program which takes the following inputs\n",
    "# a. Last name\n",
    "# b. First name\n",
    "# c. age\n",
    "# and prints\n",
    "# Length of last name\n",
    "# length of first name\n",
    "# Last name followed by coma followed by first name and age in 10 years\n",
    "\n",
    "# Ex: For the following input, \n",
    "# a. Last name: Doe\n",
    "# b. First name: Jane\n",
    "# c. age: 23\n",
    "# the output should be:\n",
    "# Last name has 3 characters\n",
    "# First name has 4 characters\n",
    "# Full name is Doe, Jane and age in 10 years is 23\n",
    "\n",
    "# Fill in the blanks to get the program running\n",
    "\n",
    "last_name = \"Doe\"\n",
    "first_name = \"Jane\"\n",
    "age = 23\n",
    "\n",
    "print(\"Last name has {} characters\".format(len(last_name)))\n",
    "print(\"First name has {} characters\".format(len(first_name)))\n",
    "print(\"Full name is {}, {} and age in 10 years is {}\".format(last_name, first_name, age + 10))"
   ]
  },
  {
   "cell_type": "code",
   "execution_count": 21,
   "metadata": {},
   "outputs": [
    {
     "name": "stdout",
     "output_type": "stream",
     "text": [
      "True\n",
      "False\n"
     ]
    }
   ],
   "source": [
    "# Question 5\n",
    "# Write a program which takes username and password as input. \n",
    "# Call a login function, which returns true if the username is 'jdoe' and password is $12@jd56\n",
    "# Else, returns false\n",
    "# using the return value from the function print successful or retry message\n",
    "\n",
    "def login(username, password):\n",
    "    \n",
    "    if username == \"jdoe\" and password == \"$12@jd56\":\n",
    "        return True\n",
    "    else:\n",
    "        return False\n",
    "\n",
    "# read input from user\n",
    "uname = \"jdoe\"\n",
    "passwd = \"$12@jd56\"\n",
    "\n",
    "# call the function with the inputs\n",
    "result = login(uname, passwd)\n",
    "print(result)\n",
    "\n",
    "uname = \"smith\"\n",
    "passwd = \"1234\"\n",
    "\n",
    "# call the function with the inputs\n",
    "result = login(uname, passwd)\n",
    "print(result)"
   ]
  },
  {
   "cell_type": "code",
   "execution_count": 2,
   "metadata": {},
   "outputs": [
    {
     "name": "stdout",
     "output_type": "stream",
     "text": [
      "Enter user name: jdoe\n",
      "Enter password: $12@jd56\n"
     ]
    }
   ],
   "source": [
    "# Question 6\n",
    "# Modify the previous program to give the user 3 chances to login. \n",
    "# If the credentials do not match, give the user a chance to reenter his username and password\n",
    "# If the credentials do not match after the third chance, print no more chances\n",
    "# Hint: Use if..else, for/while and break statements\n",
    "\n",
    "def login(username, password):\n",
    "    \n",
    "    if username == \"jdoe\" and password == \"$12@jd56\":\n",
    "        return True\n",
    "    else:\n",
    "        return False\n",
    "\n",
    "chance = 1\n",
    "result = False\n",
    "while not result:\n",
    "    # read input from user\n",
    "    uname = input(\"Enter user name: \")\n",
    "    passwd = input(\"Enter password: \")\n",
    "\n",
    "    # call the function with the inputs\n",
    "    result = login(uname, passwd)\n",
    "\n",
    "    if chance == 3:\n",
    "        print(\"No more chances.\")\n",
    "        break\n",
    "\n",
    "    if result == False:\n",
    "        chance += 1\n"
   ]
  }
 ],
 "metadata": {
  "kernelspec": {
   "display_name": "Python 3",
   "language": "python",
   "name": "python3"
  },
  "language_info": {
   "codemirror_mode": {
    "name": "ipython",
    "version": 3
   },
   "file_extension": ".py",
   "mimetype": "text/x-python",
   "name": "python",
   "nbconvert_exporter": "python",
   "pygments_lexer": "ipython3",
   "version": "3.6.3"
  }
 },
 "nbformat": 4,
 "nbformat_minor": 2
}
