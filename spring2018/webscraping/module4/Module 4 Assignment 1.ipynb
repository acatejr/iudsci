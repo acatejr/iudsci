{
 "cells": [
  {
   "cell_type": "code",
   "execution_count": 3,
   "metadata": {},
   "outputs": [
    {
     "name": "stdout",
     "output_type": "stream",
     "text": [
      "[16, 36, 64, 144, 2025, 6084]\n"
     ]
    }
   ],
   "source": [
    "# Question 1\n",
    "# find the square of given list\n",
    "\n",
    "num_list = [4,6,8,12,45,78]\n",
    "# print the square of num_list\n",
    "\n",
    "sq_list = [i**2 for i in num_list]\n",
    "print(sq_list)"
   ]
  },
  {
   "cell_type": "code",
   "execution_count": 39,
   "metadata": {},
   "outputs": [
    {
     "name": "stdout",
     "output_type": "stream",
     "text": [
      "[0, 1, 2, 3, 4, 5, 6, 7, 8, 9, 10, 11, 12, 13, 14, 15, 16, 17, 18, 19]\n",
      "[0, 1, 4, 27, 16, 125, 36, 343, 64, 729, 100, 1331, 144, 2197, 196, 3375, 256, 4913, 324, 6859]\n"
     ]
    }
   ],
   "source": [
    "# Question 2\n",
    "# replace all the elements in even indexes with squares and odd indexes with cubes\n",
    "\n",
    "num_list = list(range(20))\n",
    "print(num_list)\n",
    "idx = 0\n",
    "for i in num_list:\n",
    "    if idx % 2:\n",
    "        num_list[idx] = i**3\n",
    "    else:\n",
    "        num_list[idx] = i**2\n",
    "    idx += 1\n",
    "print(num_list)"
   ]
  },
  {
   "cell_type": "code",
   "execution_count": 48,
   "metadata": {},
   "outputs": [
    {
     "name": "stdout",
     "output_type": "stream",
     "text": [
      "[0, 1, 2, 3, 4, 5, 6, 7, 8, 9, 10, 11, 12, 13, 14, 15, 16, 17, 18, 19]\n",
      "19\n",
      "18\n",
      "17\n",
      "16\n",
      "15\n",
      "14\n",
      "13\n",
      "12\n",
      "11\n",
      "10\n",
      "9\n",
      "8\n",
      "7\n",
      "6\n",
      "5\n",
      "4\n",
      "3\n",
      "2\n",
      "1\n",
      "0\n"
     ]
    }
   ],
   "source": [
    "# Question 3\n",
    "# Using negative indexing, reverse the given list\n",
    "\n",
    "num_list = list(range(20))\n",
    "print(num_list)\n",
    "for i in num_list[::-1]:\n",
    "    print(i)"
   ]
  },
  {
   "cell_type": "code",
   "execution_count": 51,
   "metadata": {},
   "outputs": [
    {
     "name": "stdout",
     "output_type": "stream",
     "text": [
      "[1, 2, 3, 4, 5, 6]\n",
      "[1, 2, 3, 4, 5]\n"
     ]
    }
   ],
   "source": [
    "# Quesiton 4\n",
    "# Given a tuple, convert it to a list and remove the last element using remove()\n",
    "\n",
    "num_tup = (1,2,3,4,5,6)\n",
    "# output should look like [1,2,3,4,5]\n",
    "num_list = list(num_tup)\n",
    "print(num_list)\n",
    "num_list.remove(len(num_list))\n",
    "print(num_list)"
   ]
  },
  {
   "cell_type": "code",
   "execution_count": 54,
   "metadata": {},
   "outputs": [
    {
     "name": "stdout",
     "output_type": "stream",
     "text": [
      "[1, 3, 5, 2, 4]\n"
     ]
    }
   ],
   "source": [
    "# Question 5\n",
    "# Given a list, find two sublists: list with even indexed elements and other with odd indexed elements\n",
    "# return a new list which is formed after concatenating the even indexed list with odd indexed list\n",
    "\n",
    "# Ex: given [1,2,3,4,5], the output should be: [1,3,5,2,4]\n",
    "num_list = list(range(1,6))\n",
    "# num_list = [1,2,3,4,5]\n",
    "evens = []\n",
    "odds = []\n",
    "\n",
    "for n in num_list:\n",
    "    if num_list.index(n) % 2:\n",
    "        evens.append(n)\n",
    "    else:\n",
    "        odds.append(n)\n",
    "        \n",
    "print(odds + evens)"
   ]
  },
  {
   "cell_type": "code",
   "execution_count": 59,
   "metadata": {},
   "outputs": [
    {
     "name": "stdout",
     "output_type": "stream",
     "text": [
      "[0, 1, 2, 3, 4, 5, 6, 7, 8, 9]\n",
      "[0, 1, 2, 0, 1, 2, 0, 1, 2, 0]\n"
     ]
    }
   ],
   "source": [
    "# Question 6\n",
    "# Using for-loop, print the remainder of all the elements in a given list when divided with 3\n",
    "\n",
    "num_list = list(range(10))\n",
    "remainders = []\n",
    "print(num_list)\n",
    "for n in num_list:\n",
    "    remainders.append(n % 3)\n",
    "print(remainders)"
   ]
  },
  {
   "cell_type": "code",
   "execution_count": 64,
   "metadata": {},
   "outputs": [
    {
     "name": "stdout",
     "output_type": "stream",
     "text": [
      "Enter user name: jdoe\n",
      "Enter password: 23!@56\n",
      "Username already exists.  Try again!\n",
      "Enter user name: jsmith\n",
      "Enter password: pass\n",
      "Registration complete!\n"
     ]
    }
   ],
   "source": [
    "# Question 7\n",
    "# You are designer for the new login system for you class project.\n",
    "# To save the usernames and passwords, you want to use a dictionary as the data structure\n",
    "# Username will be the key and the value will be the password. \n",
    "# For simplicity lets assume we store plaintext passwords\n",
    "# write program which asks a new user for username and password\n",
    "# call a function called register_user which prints \"Registration complete!\" and\n",
    "# returns True after successfully inserting the username and password key-value pair\n",
    "# If the selected username already exists, the function should print \"Username already exists. Try again!\" and return False\n",
    "# Based on the return value the main program should decide to exit or ask for new username\n",
    "\n",
    "def register_user(login_dict, uname, passwd):\n",
    "    if uname not in login_dict:\n",
    "        login_dict[uname] = passwd\n",
    "        print(\"Registration complete!\")\n",
    "        return True\n",
    "    else:\n",
    "        print(\"Username already exists.  Try again!\")\n",
    "        return False\n",
    "\n",
    "login_dict = {'jdoe':'23!@56'}    \n",
    "\n",
    "# hint: use of break statement is required\n",
    "while True:\n",
    "    uname = input(\"Enter user name: \")\n",
    "    passwd = input(\"Enter password: \")\n",
    "    \n",
    "    if register_user(login_dict, uname, passwd):\n",
    "        break\n",
    "    else: # This else statement may not really be needed.  If register_user is false loop will continue without else\n",
    "        pass\n"
   ]
  },
  {
   "cell_type": "code",
   "execution_count": 73,
   "metadata": {},
   "outputs": [
    {
     "name": "stdout",
     "output_type": "stream",
     "text": [
      "10\n",
      "9\n",
      "8\n",
      "7\n",
      "6\n",
      "5\n",
      "4\n",
      "3\n",
      "2\n",
      "1\n",
      "0\n",
      "------------------------------\n",
      "20\n",
      "19\n",
      "18\n",
      "17\n",
      "16\n",
      "15\n",
      "14\n",
      "13\n",
      "12\n",
      "11\n",
      "10\n",
      "9\n",
      "8\n",
      "7\n",
      "6\n",
      "5\n",
      "4\n",
      "3\n",
      "2\n",
      "1\n",
      "0\n"
     ]
    }
   ],
   "source": [
    "# Question 8\n",
    "# Create a generator function to return numbers from given number 'n' in decreasing order\n",
    "# if n=20, generate numbers from 20 to 0\n",
    "\n",
    "def reverse_num_generator(n):\n",
    "    \n",
    "    while n >= 0 :\n",
    "        yield n\n",
    "        n = n - 1\n",
    "\n",
    "# print numbers from 10 to 0 (n=10)\n",
    "n = 10\n",
    "rev = reverse_num_generator(n)\n",
    "\n",
    "for num in rev:\n",
    "    print(num)\n",
    "    \n",
    "print(\"-\" * 30)\n",
    "\n",
    "n = 20\n",
    "rev = reverse_num_generator(n)\n",
    "\n",
    "for num in rev:\n",
    "    print(num)"
   ]
  }
 ],
 "metadata": {
  "kernelspec": {
   "display_name": "Python 3",
   "language": "python",
   "name": "python3"
  },
  "language_info": {
   "codemirror_mode": {
    "name": "ipython",
    "version": 3
   },
   "file_extension": ".py",
   "mimetype": "text/x-python",
   "name": "python",
   "nbconvert_exporter": "python",
   "pygments_lexer": "ipython3",
   "version": "3.6.3"
  }
 },
 "nbformat": 4,
 "nbformat_minor": 2
}
